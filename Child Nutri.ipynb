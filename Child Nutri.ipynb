{
 "cells": [
  {
   "cell_type": "code",
   "execution_count": null,
   "id": "c18c5acd",
   "metadata": {},
   "outputs": [],
   "source": []
  },
  {
   "cell_type": "code",
   "execution_count": 15,
   "id": "4b53af93",
   "metadata": {},
   "outputs": [
    {
     "name": "stdout",
     "output_type": "stream",
     "text": [
      "Name: Peter Parkar\n",
      "Age: 7\n",
      "Height: 45\n",
      "Weight: 60\n",
      "Milk:300\n",
      "Vegetables:300\n",
      "Meat:200\n",
      "Lentils:100\n",
      "Egg:300\n",
      "Rice:300\n",
      "Bmi Of Peter Parkar is 20.83 and he/she is Healthy\n",
      "The daily calorie consumption of Peter Parkar is 1809.0 and he (she) is not undernourished.\n"
     ]
    }
   ],
   "source": [
    "Name=input(\"Name: \")\n",
    "Age=int(input(\"Age: \"))\n",
    "Height=int(input(\"Height: \")) #Enter Height in Inches\n",
    "Weight=int(input(\"Weight: \")) #Enter Weight in Pounds\n",
    "Milk=int(input(\"Milk:\"))\n",
    "Vegetables=int(input(\"Vegetables:\"))\n",
    "Meat=int(input(\"Meat:\"))\n",
    "Lentils=int(input(\"Lentils:\"))\n",
    "Egg=int(input(\"Egg:\"))\n",
    "Rice=int(input(\"Rice:\"))\n",
    "\n",
    "Bmi=(Weight)/(Height**2)*703\n",
    "print(\"Bmi Of\",Name,\"is\",round(Bmi,2),\"and he/she is\",end=' ')\n",
    "\n",
    "if (Bmi<16):\n",
    "    print(\"Severely Underweight\")\n",
    "elif (Bmi>=16 and Bmi<18.5):\n",
    "    print(\"Underweight\")\n",
    "elif (Bmi>=18.5 and Bmi<25):\n",
    "    print(\"Healthy\")\n",
    "elif (Bmi>25 and Bmi<30):\n",
    "    print(\"Overweight\")\n",
    "else:\n",
    "    print(\"Obese\")\n",
    "    \n",
    "\n",
    "# Calorie Consumption\n",
    "\n",
    "calories=Milk+Vegetables*0.85+Meat*1.43+Lentils*1.13+Egg*1.55+Rice*1.3\n",
    "\n",
    "print(\"The daily calorie consumption of\",Name,\"is\",calories,\"and he (she) is\",end=' ')\n",
    "\n",
    "if(Age>0 and Age<2):\n",
    "    if(calories<800):\n",
    "        print(\"undernourished.\")\n",
    "    else:\n",
    "        print(\"not undernourished.\")\n",
    "elif(Age>=2and Age<4):\n",
    "    if(calories<1400):\n",
    "        print(\"undernourished.\")\n",
    "    else:\n",
    "        print(\"not undernourished.\")\n",
    "elif(Age>=4and Age<8):\n",
    "    if(calories<1800):\n",
    "        print(\"undernourished.\")\n",
    "    else:\n",
    "        print(\"not undernourished.\")\n",
    "else:\n",
    "    if(calories>1800):\n",
    "        print(\"not undernourished.\")\n",
    "    else:\n",
    "        print(\"undernourished.\")\n",
    "\n",
    "\n",
    "  "
   ]
  },
  {
   "cell_type": "code",
   "execution_count": null,
   "id": "670a2692",
   "metadata": {},
   "outputs": [],
   "source": []
  },
  {
   "cell_type": "code",
   "execution_count": null,
   "id": "aaade5a5",
   "metadata": {},
   "outputs": [],
   "source": []
  }
 ],
 "metadata": {
  "kernelspec": {
   "display_name": "Python 3 (ipykernel)",
   "language": "python",
   "name": "python3"
  },
  "language_info": {
   "codemirror_mode": {
    "name": "ipython",
    "version": 3
   },
   "file_extension": ".py",
   "mimetype": "text/x-python",
   "name": "python",
   "nbconvert_exporter": "python",
   "pygments_lexer": "ipython3",
   "version": "3.9.7"
  }
 },
 "nbformat": 4,
 "nbformat_minor": 5
}
